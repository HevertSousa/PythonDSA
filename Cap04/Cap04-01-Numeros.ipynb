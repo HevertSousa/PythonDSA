{
 "cells": [
  {
   "cell_type": "markdown",
   "id": "3d2fcff8-e94a-44cd-8e15-21f581deb6ab",
   "metadata": {},
   "source": [
    "# Data Science Academy\n",
    "\n",
    "## Fundamentos de linguagem Python para análise de Dados e Data Science\n",
    "\n",
    "## Capítulo 4 - Números e Operações Matemáticas"
   ]
  },
  {
   "cell_type": "code",
   "execution_count": null,
   "id": "84bccfe8-e9e6-4ec8-9633-ae1c1847a981",
   "metadata": {},
   "outputs": [],
   "source": [
    "#Versão da linguagem python\n",
    "from platform import python_version\n",
    "print(python_version())"
   ]
  },
  {
   "cell_type": "markdown",
   "id": "f0aa2a23-a7ff-48ea-abe3-edfc16c5d118",
   "metadata": {},
   "source": [
    "### Operações aritméticas"
   ]
  },
  {
   "cell_type": "code",
   "execution_count": null,
   "id": "99e76b5a-342e-4a86-9c3e-61ab188c5ea4",
   "metadata": {},
   "outputs": [],
   "source": [
    "# soma \n",
    "4+4"
   ]
  },
  {
   "cell_type": "code",
   "execution_count": null,
   "id": "b6ba0546-abd0-46e4-a3ec-fcd0d9477129",
   "metadata": {},
   "outputs": [],
   "source": [
    "# Subtração\n",
    "4-3"
   ]
  },
  {
   "cell_type": "code",
   "execution_count": null,
   "id": "5ffc9da5-7093-457b-a6b9-1d8ae6711bfa",
   "metadata": {},
   "outputs": [],
   "source": [
    "# Multiplicação\n",
    "4*3"
   ]
  },
  {
   "cell_type": "code",
   "execution_count": null,
   "id": "159fe032-dd0a-4184-965c-5a4784da9aac",
   "metadata": {},
   "outputs": [],
   "source": [
    "# Divisão\n",
    "4/3"
   ]
  },
  {
   "cell_type": "code",
   "execution_count": null,
   "id": "4b48b491-e037-4d06-ab6f-85210a725f22",
   "metadata": {},
   "outputs": [],
   "source": [
    "# Potência\n",
    "4**2"
   ]
  },
  {
   "cell_type": "code",
   "execution_count": null,
   "id": "9b442e50-7bcb-4117-a3a3-7e9886b0bf04",
   "metadata": {},
   "outputs": [],
   "source": [
    "# Módulo\n",
    "10 % 3"
   ]
  },
  {
   "cell_type": "markdown",
   "id": "e1356cb1-f787-41cf-b7d0-aab422e0de5f",
   "metadata": {},
   "source": [
    "### Função Type"
   ]
  },
  {
   "cell_type": "code",
   "execution_count": null,
   "id": "5cf8b1a6-a577-414d-bb28-85726ff40d8e",
   "metadata": {},
   "outputs": [],
   "source": [
    "type(5)"
   ]
  },
  {
   "cell_type": "code",
   "execution_count": null,
   "id": "4f348933-ac21-47fc-bd28-4c6cf541bbad",
   "metadata": {},
   "outputs": [],
   "source": [
    "type(5.0)"
   ]
  },
  {
   "cell_type": "code",
   "execution_count": null,
   "id": "44ee84b5-5adb-4783-a877-5ad806851661",
   "metadata": {},
   "outputs": [],
   "source": [
    "a = 'Estou estudando na Data Science Academy'\n",
    "type(a)"
   ]
  },
  {
   "cell_type": "markdown",
   "id": "cd80abb0-1b96-43d0-a8b7-bcabf0d1a746",
   "metadata": {},
   "source": [
    "### Operações com números float"
   ]
  },
  {
   "cell_type": "code",
   "execution_count": null,
   "id": "8380f8a3-ddf4-40d3-9b81-b04e85cdc17f",
   "metadata": {},
   "outputs": [],
   "source": [
    "3.1 + 6.4"
   ]
  },
  {
   "cell_type": "code",
   "execution_count": null,
   "id": "9ac79dd5-aea7-4f1d-927d-c494e9ffeee2",
   "metadata": {},
   "outputs": [],
   "source": [
    "4 + 4.0"
   ]
  },
  {
   "cell_type": "code",
   "execution_count": null,
   "id": "ac233506-2bb3-47e4-b376-33ef9c385004",
   "metadata": {},
   "outputs": [],
   "source": [
    "4+4"
   ]
  },
  {
   "cell_type": "code",
   "execution_count": null,
   "id": "6f7b7778-b068-4503-8b4a-8062affffb80",
   "metadata": {},
   "outputs": [],
   "source": [
    "# Resultado é um número float\n",
    "4/2"
   ]
  },
  {
   "cell_type": "code",
   "execution_count": null,
   "id": "a4ecd193-c256-4ba5-9b8c-4aae4db6b241",
   "metadata": {},
   "outputs": [],
   "source": [
    "# Reultado é um número inteiro \n",
    "4 // 2"
   ]
  },
  {
   "cell_type": "code",
   "execution_count": null,
   "id": "82eb31ac-8dfb-486a-9282-fbd54efa809a",
   "metadata": {},
   "outputs": [],
   "source": [
    "4/3.0"
   ]
  },
  {
   "cell_type": "code",
   "execution_count": null,
   "id": "63dd041b-77d2-4484-9e82-57a74d9f36dc",
   "metadata": {},
   "outputs": [],
   "source": [
    "4//3.0"
   ]
  },
  {
   "cell_type": "markdown",
   "id": "16a4f041-934b-482d-9cd8-cc3f43d2c3eb",
   "metadata": {},
   "source": [
    "### Conversão"
   ]
  },
  {
   "cell_type": "code",
   "execution_count": null,
   "id": "32d45c38-7655-42f7-94be-ad6b575ce13a",
   "metadata": {},
   "outputs": [],
   "source": [
    "float(9)"
   ]
  },
  {
   "cell_type": "code",
   "execution_count": null,
   "id": "9258ca90-4df1-41bc-8ee9-81dcdcc2eb1a",
   "metadata": {},
   "outputs": [],
   "source": [
    "int(6.0)"
   ]
  },
  {
   "cell_type": "code",
   "execution_count": null,
   "id": "f0a30d38-cc09-401a-a098-8310043a95e2",
   "metadata": {},
   "outputs": [],
   "source": [
    "int(6.5)"
   ]
  },
  {
   "cell_type": "markdown",
   "id": "c49a98b0-eb94-4983-810b-0d3333834b7c",
   "metadata": {},
   "source": [
    "### Hexadecimal e Binário"
   ]
  },
  {
   "cell_type": "code",
   "execution_count": null,
   "id": "30d8e4e5-425b-4a24-9ae7-659d7315fef3",
   "metadata": {},
   "outputs": [],
   "source": [
    "hex(394)"
   ]
  },
  {
   "cell_type": "code",
   "execution_count": null,
   "id": "cc278987-679f-4883-9eb4-dd418e75d5e6",
   "metadata": {},
   "outputs": [],
   "source": [
    "hex(217)"
   ]
  },
  {
   "cell_type": "code",
   "execution_count": null,
   "id": "ab365992-c652-4c71-aced-dd292daffef6",
   "metadata": {},
   "outputs": [],
   "source": [
    "bin(286)"
   ]
  },
  {
   "cell_type": "code",
   "execution_count": null,
   "id": "75130c6e-0065-4c0e-92e8-ee2318edde02",
   "metadata": {},
   "outputs": [],
   "source": [
    "bin(390)"
   ]
  },
  {
   "cell_type": "markdown",
   "id": "44b47dce-679b-4bb0-ac0c-c8f116766d08",
   "metadata": {},
   "source": [
    "### Funções abs, round e pow"
   ]
  },
  {
   "cell_type": "code",
   "execution_count": null,
   "id": "67ff28d8-5c51-42f6-bc7f-75a467c97b92",
   "metadata": {},
   "outputs": [],
   "source": [
    "# Retorna o valor absoluto\n",
    "abs(-8)"
   ]
  },
  {
   "cell_type": "code",
   "execution_count": null,
   "id": "550a3c1d-85da-4319-ad80-d047f7f690ad",
   "metadata": {},
   "outputs": [],
   "source": [
    "#Retorna o valor absoluto\n",
    "abs(8)"
   ]
  },
  {
   "cell_type": "code",
   "execution_count": null,
   "id": "b8a6bd77-fa3c-42a2-9355-68daf9c3d8f2",
   "metadata": {},
   "outputs": [],
   "source": [
    "# Retorna o valor com duas casas decimais\n",
    "round(3.14151922, 2)"
   ]
  },
  {
   "cell_type": "code",
   "execution_count": null,
   "id": "c64660a9-a6e6-4cfa-bf6a-2ec85408399d",
   "metadata": {},
   "outputs": [],
   "source": [
    "# Potência\n",
    "pow(4,2)"
   ]
  },
  {
   "cell_type": "code",
   "execution_count": null,
   "id": "a06f2ebd-6d97-441e-9745-36746eaec804",
   "metadata": {},
   "outputs": [],
   "source": [
    "# Potência\n",
    "pow(5,3)"
   ]
  },
  {
   "cell_type": "markdown",
   "id": "9c9e892c-404a-48cb-bcaa-ca21e6a866af",
   "metadata": {},
   "source": [
    "# FIM"
   ]
  }
 ],
 "metadata": {
  "kernelspec": {
   "display_name": "Python 3 (ipykernel)",
   "language": "python",
   "name": "python3"
  }
 },
 "nbformat": 4,
 "nbformat_minor": 5
}
