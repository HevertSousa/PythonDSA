{
 "cells": [
  {
   "cell_type": "markdown",
   "id": "2f49045b-81d1-4b8c-86aa-8e3f4c8809b3",
   "metadata": {
    "jp-MarkdownHeadingCollapsed": true
   },
   "source": [
    "# Pseudocódigo 1 - Calcular a Área de um Paralelograma\n",
    "\n",
    "Nota: Um paralelograma é um quadrilátero com lados opostos paralelos (e portanto ângulos opostos iguais). Um qudrilátero com lados iguais é chamado de losango e um paralelogramo cujos ângulos são todos ângulos retos é chamado de retângulo. "
   ]
  },
  {
   "cell_type": "markdown",
   "id": "25709d9d-874b-42f3-a329-c38e31c2ed24",
   "metadata": {},
   "source": [
    "Inicie\n",
    "    Exiba \"Bem-vindo ao Calculado de área de paralelogramo\"\n",
    "    peça para o usuário inserir o comprimento da base\n",
    "    armazene o comprimento da base em uma virável \n",
    "    calcule a área do paralelogramo: base * altura\n",
    "    armazene o resultado em uma variavel\n",
    "    exiba o resultado\n",
    "Fim"
   ]
  },
  {
   "cell_type": "markdown",
   "id": "a897313c-97a1-447a-8d09-8a0e525c3ca3",
   "metadata": {
    "jp-MarkdownHeadingCollapsed": true
   },
   "source": [
    "# Convertendo o pseudocódigo em um programa python."
   ]
  },
  {
   "cell_type": "code",
   "execution_count": 8,
   "id": "7dd21730-e342-4d14-af59-23341206fb62",
   "metadata": {},
   "outputs": [
    {
     "name": "stdout",
     "output_type": "stream",
     "text": [
      "Bem-Vindo ao Calculador de Área de Paralelogramo\n"
     ]
    }
   ],
   "source": [
    "print(\"Bem-Vindo ao Calculador de Área de Paralelogramo\")"
   ]
  },
  {
   "cell_type": "code",
   "execution_count": 9,
   "id": "441f17c1-e872-4941-80e8-54bf1cd146b2",
   "metadata": {},
   "outputs": [
    {
     "name": "stdin",
     "output_type": "stream",
     "text": [
      "Insira o comprimento da base:  4\n"
     ]
    }
   ],
   "source": [
    "base = float(input(\"Insira o comprimento da base: \"))"
   ]
  },
  {
   "cell_type": "code",
   "execution_count": 10,
   "id": "78de51d9-824f-458a-b53c-1c558e17b985",
   "metadata": {},
   "outputs": [
    {
     "name": "stdin",
     "output_type": "stream",
     "text": [
      "Insira a altura:  6\n"
     ]
    }
   ],
   "source": [
    "altura = float(input(\"Insira a altura: \"))"
   ]
  },
  {
   "cell_type": "code",
   "execution_count": 11,
   "id": "20b3ce91-b932-4a24-b744-86287c0c8e9b",
   "metadata": {},
   "outputs": [],
   "source": [
    "area = base * altura"
   ]
  },
  {
   "cell_type": "code",
   "execution_count": 12,
   "id": "8a46c40f-20cd-40d1-aa40-b5f8f296e494",
   "metadata": {},
   "outputs": [
    {
     "name": "stdout",
     "output_type": "stream",
     "text": [
      "A área do paralelogramo é:  24.0\n"
     ]
    }
   ],
   "source": [
    "print(\"A área do paralelogramo é: \", area)"
   ]
  },
  {
   "cell_type": "markdown",
   "id": "ded7a2a7-2882-46eb-854c-a820e7ce10ac",
   "metadata": {
    "jp-MarkdownHeadingCollapsed": true
   },
   "source": [
    "# Pseudocódigo 2 - Para uma Calculadora\n",
    "\n",
    "    Inicie\n",
    "        Exiba \"Bem-vindo à Calculadora\"\n",
    "        Peça para o usuário inserir o primeiro número\n",
    "        Armazene o primeiro número em uma variável \n",
    "        Peça para o usuário inserir o segundo número\n",
    "        Armazene o segundo número em uma variável\n",
    "        Peça para o usuário selecionar uma operação (+,-,*,/)\n",
    "        Utilize a operação selecionada e os números armazenaos para realizar o cálculo\n",
    "        Exiba o resultado. \n",
    "    Fim"
   ]
  },
  {
   "cell_type": "code",
   "execution_count": 15,
   "id": "df395221-0021-4c6d-9855-39e34534e1a7",
   "metadata": {},
   "outputs": [
    {
     "name": "stdout",
     "output_type": "stream",
     "text": [
      "Bem-Vindo à Calculadora\n"
     ]
    }
   ],
   "source": [
    "print(\"Bem-Vindo à Calculadora\")"
   ]
  },
  {
   "cell_type": "code",
   "execution_count": 22,
   "id": "faf43078-852b-4240-947f-3eea7eba2359",
   "metadata": {},
   "outputs": [
    {
     "name": "stdin",
     "output_type": "stream",
     "text": [
      "Insira o 1º valor:  9\n"
     ]
    }
   ],
   "source": [
    "a = float(input(\"Insira o 1º valor: \"))"
   ]
  },
  {
   "cell_type": "code",
   "execution_count": 23,
   "id": "dd7d7097-33ae-42ea-9b9a-c3c8467eb7a4",
   "metadata": {},
   "outputs": [
    {
     "name": "stdin",
     "output_type": "stream",
     "text": [
      "Insira o 2º valor:  3\n"
     ]
    }
   ],
   "source": [
    "b = float(input(\"Insira o 2º valor: \"))"
   ]
  },
  {
   "cell_type": "code",
   "execution_count": 24,
   "id": "d6f5e6e5-82ff-4f03-ad39-35ac0378eb94",
   "metadata": {},
   "outputs": [
    {
     "name": "stdin",
     "output_type": "stream",
     "text": [
      "Selecione uma operação(+,-,*,/): /\n"
     ]
    }
   ],
   "source": [
    "operacao = input(\"Selecione uma operação(+,-,*,/):\" )"
   ]
  },
  {
   "cell_type": "code",
   "execution_count": 25,
   "id": "325a77f4-a374-4cfb-9f2e-0459d3b6531f",
   "metadata": {},
   "outputs": [
    {
     "name": "stdout",
     "output_type": "stream",
     "text": [
      "O resultado é:  3.0\n"
     ]
    }
   ],
   "source": [
    "if operacao == \"+\":\n",
    "    resultado = a+b\n",
    "    print(\"O resultado é: \",resultado)\n",
    "elif operacao == \"-\":\n",
    "    resultado = a-b\n",
    "    print(\"O resultado é: \",resultado)\n",
    "elif operacao == \"*\":\n",
    "    resultado = a*b\n",
    "    print(\"O resultado é: \",resultado)\n",
    "elif operacao == \"/\":\n",
    "    resultado = a/b\n",
    "    print(\"O resultado é: \",resultado)\n",
    "else:\n",
    "    print(\"Operação inválida!!!\")"
   ]
  },
  {
   "cell_type": "markdown",
   "id": "85ef794b-b475-405e-8c0c-18e22bbcc76c",
   "metadata": {
    "jp-MarkdownHeadingCollapsed": true
   },
   "source": [
    "# Pseudocódigo 3 - Algoritmo Bubble Sort\n",
    "\n",
    "    Bubble sorte é um algoritmo de ordenação simples que funciona comparando cada elemento com o próximo, e trocando-os de lugar se eles estiverem em   ordem incorreta. O algoritmo repete esse processo várias vezes, até que todos os elementos estejam ordenados. A cada passagem, o maior elemento \"flutua\" para o final do array como uma bolha, dando origem ao nome do algoritmo\n",
    "\n",
    "    Início:\n",
    "        Para cada elemento i no array de tamanho n\n",
    "            pra cada elemento j no array de tamanho n-1\n",
    "                se elemento i for maior que elemento j \n",
    "                    Troque os elementos i e j\n",
    "        Exiba o array ordenado\n",
    "    Fim"
   ]
  },
  {
   "cell_type": "code",
   "execution_count": 28,
   "id": "dffd11a4-0b2a-46c9-987d-24cc2e11013b",
   "metadata": {},
   "outputs": [],
   "source": [
    "lista = [6,7,8,3,10,19,4,1,0,61,30,16,17,82,29,34,43,21,11,39,56,67,12]"
   ]
  },
  {
   "cell_type": "code",
   "execution_count": 34,
   "id": "2339759f-ab1b-4555-aef7-0185c07c171c",
   "metadata": {},
   "outputs": [],
   "source": [
    "def bubble_sort(arr):\n",
    "    n = len(arr)\n",
    "\n",
    "    #Para cada elemento i do array\n",
    "    for i in range(n):\n",
    "        #Para cada elemento j do array\n",
    "        for j in range(0, n-i-1):\n",
    "            #Se elemento i for maior que elemento j\n",
    "            if arr[j] > arr[j+1]:\n",
    "                #Troque os elementos i e j\n",
    "                arr[j], arr[j+1] = arr[j+1], arr[j]\n",
    "    return arr"
   ]
  },
  {
   "cell_type": "code",
   "execution_count": 35,
   "id": "8c42c8fa-1c30-403c-82af-c85666b9bdb2",
   "metadata": {},
   "outputs": [
    {
     "name": "stdout",
     "output_type": "stream",
     "text": [
      "[0, 1, 3, 4, 6, 7, 8, 10, 11, 12, 16, 17, 19, 21, 29, 30, 34, 39, 43, 56, 61, 67, 82]\n"
     ]
    }
   ],
   "source": [
    "print(bubble_sort(lista))"
   ]
  },
  {
   "cell_type": "code",
   "execution_count": null,
   "id": "510bdfb3-d426-4877-9a3c-53ddab66d010",
   "metadata": {},
   "outputs": [],
   "source": []
  }
 ],
 "metadata": {
  "kernelspec": {
   "display_name": "Python 3 (ipykernel)",
   "language": "python",
   "name": "python3"
  },
  "language_info": {
   "codemirror_mode": {
    "name": "ipython",
    "version": 3
   },
   "file_extension": ".py",
   "mimetype": "text/x-python",
   "name": "python",
   "nbconvert_exporter": "python",
   "pygments_lexer": "ipython3",
   "version": "3.11.7"
  }
 },
 "nbformat": 4,
 "nbformat_minor": 5
}
