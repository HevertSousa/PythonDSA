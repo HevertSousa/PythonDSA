{
 "cells": [
  {
   "cell_type": "code",
   "execution_count": null,
   "id": "7da2a6bc-21f1-4ef6-a6b7-a18ee634f8c0",
   "metadata": {},
   "outputs": [],
   "source": [
    "numero = list(range(1, 101))\n",
    "\n",
    "for numero in numero:\n",
    "    if numero % 2 == 0 and numero % 4 == 0:\n",
    "        print(numero)\n"
   ]
  },
  {
   "cell_type": "markdown",
   "id": "d56f5e03-69d8-4367-9216-c13df3caa400",
   "metadata": {},
   "source": [
    "Gere código python qe crie uma lista com os números entre 1 e 100 e então imprima os números pares, mas somente se o número for divisível por 4, usando list comprehension. \n"
   ]
  },
  {
   "cell_type": "code",
   "execution_count": 5,
   "id": "c52170a9-d308-4c3b-abeb-44883919c417",
   "metadata": {},
   "outputs": [
    {
     "name": "stdout",
     "output_type": "stream",
     "text": [
      "[4, 8, 12, 16, 20, 24, 28, 32, 36, 40, 44, 48, 52, 56, 60, 64, 68, 72, 76, 80, 84, 88, 92, 96, 100]\n"
     ]
    }
   ],
   "source": [
    "#cria uma lista com os números entre 1 e 100 \n",
    "numeros = list(range(1, 101))\n",
    "\n",
    "#Usa a list comprehension para gerar uma lista somente com os números pares e divisíveis por 4\n",
    "pares_div4 = [numero for numero in numeros if numero % 2 == 0 and numero % 4 == 0]\n",
    "\n",
    "#Imprime a lista gerada\n",
    "print(pares_div4)"
   ]
  },
  {
   "cell_type": "markdown",
   "id": "76065292-c8e1-44b4-9b63-356f2b279664",
   "metadata": {},
   "source": [
    "#FIM"
   ]
  },
  {
   "cell_type": "code",
   "execution_count": 6,
   "id": "3f2b8b92-3bb4-4b51-9126-e169979cfd4c",
   "metadata": {},
   "outputs": [
    {
     "data": {
      "text/plain": [
       "list"
      ]
     },
     "execution_count": 6,
     "metadata": {},
     "output_type": "execute_result"
    }
   ],
   "source": [
    "type(pares_div4)"
   ]
  },
  {
   "cell_type": "code",
   "execution_count": null,
   "id": "2c2dac0b-7152-45d1-b2ed-40efeeda86b8",
   "metadata": {},
   "outputs": [],
   "source": []
  }
 ],
 "metadata": {
  "kernelspec": {
   "display_name": "Python 3 (ipykernel)",
   "language": "python",
   "name": "python3"
  },
  "language_info": {
   "codemirror_mode": {
    "name": "ipython",
    "version": 3
   },
   "file_extension": ".py",
   "mimetype": "text/x-python",
   "name": "python",
   "nbconvert_exporter": "python",
   "pygments_lexer": "ipython3",
   "version": "3.11.7"
  }
 },
 "nbformat": 4,
 "nbformat_minor": 5
}
