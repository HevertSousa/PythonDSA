{
 "cells": [
  {
   "cell_type": "markdown",
   "metadata": {},
   "source": [
    "# Data Science Academy "
   ]
  },
  {
   "cell_type": "markdown",
   "metadata": {},
   "source": [
    "### Fundamentos de Linguagem Python para Análise de Dados e Data Science"
   ]
  },
  {
   "cell_type": "markdown",
   "metadata": {},
   "source": [
    "##### Lab 03 - Trabalhando com Expressões Regulares em Python com ChatGPT"
   ]
  },
  {
   "cell_type": "code",
   "execution_count": 1,
   "metadata": {},
   "outputs": [
    {
     "name": "stdout",
     "output_type": "stream",
     "text": [
      "3.11.7\n"
     ]
    }
   ],
   "source": [
    "# Versão da Linguagem Python\n",
    "from platform import python_version \n",
    "print(python_version())"
   ]
  },
  {
   "cell_type": "markdown",
   "metadata": {},
   "source": [
    "- Expressões regulares são uma sequênca de caracteres que definem uma busca padrão em strings.\n",
    "- Em python, as Expressões Regulares são uportadas pelo pacote **re**. Ele fornece uma série de funções para pesquisar e substituir padrões em strings.\n",
    "- Algumas das tarefas ais comuns que podem ser realizadas com Expressões Regulares incluem:\n",
    "- Verificar se uma string corresponde a um determinado padrão.\n",
    "- Extrair informações de uma string com base em um parão específico e substituir trechos de uma string com base em um padrão. Por exemplo você pode usar uma expressão regular para verificar se uma string representa um endereço de e-mail válido, ou para encontrar todas as ocorrências de um padrão em um string"
   ]
  },
  {
   "cell_type": "code",
   "execution_count": 2,
   "metadata": {},
   "outputs": [],
   "source": [
    "import re"
   ]
  },
  {
   "cell_type": "code",
   "execution_count": 3,
   "metadata": {},
   "outputs": [],
   "source": [
    "texto  = \"Meu e-mal é exemplo@gmail.com e você pode me contatar em outro_email@yahoo.com.\""
   ]
  },
  {
   "cell_type": "code",
   "execution_count": 5,
   "metadata": {},
   "outputs": [
    {
     "data": {
      "text/plain": [
       "2"
      ]
     },
     "execution_count": 5,
     "metadata": {},
     "output_type": "execute_result"
    }
   ],
   "source": [
    "# Expressão regular para contar quantas vezes o caracter arroba aparece no texto \n",
    "\n",
    "resultado = len(re.findall('@', texto))\n",
    "\n",
    "resultado"
   ]
  },
  {
   "cell_type": "code",
   "execution_count": 6,
   "metadata": {},
   "outputs": [
    {
     "name": "stdout",
     "output_type": "stream",
     "text": [
      "O caractere @ apareceu 2 vezes no texto.\n"
     ]
    }
   ],
   "source": [
    "print(\"O caractere @ apareceu\",resultado,\"vezes no texto.\")"
   ]
  },
  {
   "cell_type": "code",
   "execution_count": 13,
   "metadata": {},
   "outputs": [],
   "source": [
    "# Expressão regular para extrair a palavra que aparece após a palavra \"você\" em um texto\n",
    "resultado = re.findall(r'você (\\w+)', texto)"
   ]
  },
  {
   "cell_type": "code",
   "execution_count": 14,
   "metadata": {},
   "outputs": [
    {
     "name": "stdout",
     "output_type": "stream",
     "text": [
      "A palavra após você é: pode\n"
     ]
    }
   ],
   "source": [
    "print('A palavra após você é:', resultado[0])"
   ]
  },
  {
   "cell_type": "markdown",
   "metadata": {},
   "source": [
    "- Nota: O r antes da string que representa a expressão regular em Python é usado para indicar que a String é uma String literal **raw**. Isso significa que as barras invertidas() não são interpretadas como caracteres de escape, mas são incluídas na expressão regular como parte do padrão. "
   ]
  },
  {
   "cell_type": "code",
   "execution_count": 16,
   "metadata": {},
   "outputs": [],
   "source": [
    "# Expressão regular para extrair endereços de e-mail de uma string\n",
    "emails = re.findall(r'\\b[A-Za-z0-9._%+-]+@[A-Za-z0-9.-]+\\.[A-Z|a-z]{2,}\\b', texto)"
   ]
  },
  {
   "cell_type": "code",
   "execution_count": 17,
   "metadata": {},
   "outputs": [
    {
     "name": "stdout",
     "output_type": "stream",
     "text": [
      "['exemplo@gmail.com', 'outro_email@yahoo.com']\n"
     ]
    }
   ],
   "source": [
    "print(emails)"
   ]
  },
  {
   "cell_type": "code",
   "execution_count": 18,
   "metadata": {},
   "outputs": [],
   "source": [
    "text = \"O aluno estava incrivelmente perdido, mas encontrou a DSA e rapidamente começou a aprender.\""
   ]
  },
  {
   "cell_type": "code",
   "execution_count": 20,
   "metadata": {},
   "outputs": [
    {
     "name": "stdout",
     "output_type": "stream",
     "text": [
      "15-28: incrivelmente\n",
      "60-71: rapidamente\n"
     ]
    }
   ],
   "source": [
    "# Extraindo os advérbios da frase\n",
    "for m in re.finditer(r\"\\w+mente\\b\",text):\n",
    "    print('%02d-%02d: %s' % (m.start(), m.end(), m.group(0)))"
   ]
  },
  {
   "cell_type": "markdown",
   "metadata": {},
   "source": [
    "##### REGEX com ChtaGPT\n",
    "- Música: Tempo Perdido\n",
    "Legião Urbana"
   ]
  },
  {
   "cell_type": "code",
   "execution_count": 21,
   "metadata": {},
   "outputs": [],
   "source": [
    "# Variável do tipo string \n",
    "# 3 aspas = DOCSTRING que permite colocar o texto da forma que você o coleta da fonte\n",
    "musica = ''' \n",
    "Todos os dias quando acordo \n",
    "Não tenho mais o tempo que passou \n",
    "Mas tenho muito tempo d\n",
    "Temos todo tempo do mundo \n",
    "Todos os dias \n",
    "Antes de dormir \n",
    "Lembro e esqueço \n",
    "Como foi o dia \n",
    "Sempre em frene \n",
    "Não temos tempo a perder\n",
    "Nosso suor sagrado \n",
    "É bem mais belo \n",
    "Que esse sngue amargo \n",
    "E tão sério \n",
    "E selvagem! Selvagem!\n",
    "Selvagem!\n",
    "Veja o sol \n",
    "Desa manhã tão cinza\n",
    "A tempestade que chega\n",
    "É da cor dos teus olhos \n",
    "Castanhos\n",
    "Então me abraça forte \n",
    "E diz mai uma vez\n",
    "Que já estamos \n",
    "Distantes de tudo\n",
    "Temos nosso próprio tempo\n",
    "Temos nosso próprio tempo\n",
    "Temos nosso próprio tempo\n",
    "Não tenho mdo do escuro\n",
    "Mas deixe as luzes\n",
    "Acesas agora\n",
    "O que foi escondido \n",
    "É o que se escondeu\n",
    "E o que foi prometido \n",
    "Ninguém prometeu \n",
    "Nem foi tempo perdido \n",
    "Somos tão jovens\n",
    "Tão jovens! Tão jovens!\n",
    "'''"
   ]
  },
  {
   "cell_type": "code",
   "execution_count": 22,
   "metadata": {},
   "outputs": [
    {
     "name": "stdout",
     "output_type": "stream",
     "text": [
      " \n",
      "Todos os dias quando acordo \n",
      "Não tenho mais o tempo que passou \n",
      "\n",
      "\n"
     ]
    }
   ],
   "source": [
    "print(musica)"
   ]
  },
  {
   "cell_type": "code",
   "execution_count": 23,
   "metadata": {},
   "outputs": [],
   "source": [
    "# 1 - Crie um REGEX para contar quantas vezes o caracter \"a\" aparece em todo o texto da música.\n",
    "# 2 - Crie um REGEX em Python para contar quantas vezes a palavra \"tempo\" aparece na música.\n",
    "# 3 - Crie um REGEX em Python para extrair as palavras seguidas por exclamação.\n",
    "# 4 - Crie um REGEX que extrai qualquer palavra cujo ancetecessor seja a palavra \"esse\" e o sucessor seja a palavra \"amargo\" em um texto.\n",
    "# 5 - Crie um REGEX que retorne as palavras com acento, mas somente os caracteres na palavra que são anteriores ao caracter com acento. "
   ]
  },
  {
   "cell_type": "code",
   "execution_count": 31,
   "metadata": {},
   "outputs": [
    {
     "name": "stdout",
     "output_type": "stream",
     "text": [
      "0\n"
     ]
    }
   ],
   "source": [
    "# Regex 1:\n",
    "\n",
    "cont = len(re.findall(r'\\b[Aa]\\b', musica))\n",
    "\n",
    "print(cont) "
   ]
  },
  {
   "cell_type": "code",
   "execution_count": null,
   "metadata": {},
   "outputs": [],
   "source": []
  }
 ],
 "metadata": {
  "kernelspec": {
   "display_name": "Python 3 (ipykernel)",
   "language": "python",
   "name": "python3"
  },
  "language_info": {
   "codemirror_mode": {
    "name": "ipython",
    "version": 3
   },
   "file_extension": ".py",
   "mimetype": "text/x-python",
   "name": "python",
   "nbconvert_exporter": "python",
   "pygments_lexer": "ipython3",
   "version": "3.11.7"
  }
 },
 "nbformat": 4,
 "nbformat_minor": 2
}
