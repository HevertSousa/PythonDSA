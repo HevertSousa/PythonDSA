{
 "cells": [
  {
   "cell_type": "markdown",
   "metadata": {},
   "source": [
    "# Data Science Academy"
   ]
  },
  {
   "cell_type": "markdown",
   "metadata": {},
   "source": [
    "### Fundamento da Linguagem Python para Análise de Dado e Data Science"
   ]
  },
  {
   "cell_type": "markdown",
   "metadata": {},
   "source": [
    "##### Capítulo 5 - Loop While"
   ]
  },
  {
   "cell_type": "code",
   "execution_count": null,
   "metadata": {},
   "outputs": [],
   "source": [
    "# Versão da Linguagem Python\n",
    "from platform import python_version\n",
    "print(python_version())"
   ]
  },
  {
   "cell_type": "code",
   "execution_count": null,
   "metadata": {},
   "outputs": [],
   "source": [
    "# Usando o loop while para imprimir os valores de 0 a 9 \n",
    "# A condição tem que deixar de ser verdadeira dentro do loop, enão pdoe travar o navegador ou mesmo o computador (loop infinito)\n",
    "\n",
    "valor = 0\n",
    "while valor < 10:\n",
    "    print(valor)\n",
    "    valor += 1"
   ]
  },
  {
   "cell_type": "code",
   "execution_count": null,
   "metadata": {},
   "outputs": [],
   "source": [
    "# Entra no loop somente se a condição for verdadeira\n",
    "valor = 11\n",
    "while valor < 10:\n",
    "    print(valor)\n",
    "    valor += 1"
   ]
  },
  {
   "cell_type": "code",
   "execution_count": null,
   "metadata": {},
   "outputs": [],
   "source": [
    "# Também é possível usar a cláusula else para encerrar o loop while\n",
    "\n",
    "x = 0\n",
    "while x < 10:\n",
    "    print('O valor e x nesta iteração é: ', x)\n",
    "    print('x ainda é menor que 10, somando 1 a X')\n",
    "    x += 1\n",
    "else:\n",
    "    print('Loop Concluído')\n",
    "print(x)"
   ]
  },
  {
   "cell_type": "markdown",
   "metadata": {},
   "source": [
    "##### Pass, Break, Continue"
   ]
  },
  {
   "cell_type": "code",
   "execution_count": null,
   "metadata": {},
   "outputs": [],
   "source": [
    "#Se encontrarmos o número 4 interrompemos o loop\n",
    "\n",
    "valor = 0 \n",
    "\n",
    "while valor < 10:\n",
    "    if valor == 4:\n",
    "        break\n",
    "    else:\n",
    "        pass\n",
    "    print(valor)\n",
    "    valor += 1"
   ]
  },
  {
   "cell_type": "code",
   "execution_count": null,
   "metadata": {},
   "outputs": [],
   "source": [
    "# Desconsideremos a letra z ao imprimir os caracteres da frase\n",
    "\n",
    "for letra in 'Python é zzz incrível!':\n",
    "    if letra == 'z':\n",
    "        continue\n",
    "    print(letra)"
   ]
  },
  {
   "cell_type": "markdown",
   "metadata": {},
   "source": [
    "##### While e For juntos\n",
    "\n",
    "- Vamos encontrar números em uma coleção de números usando loop while e for juntos. \n",
    "- Um número **primo** é um número natural maior do que 1 que é divisível por 1 e por ele mesmo. Isso significa que não há nenhum outro número inteiro que possa dividir o número primo sem deixar resto. Por exemplo, o número 2 é primo, pois é divisível apenas por 1 e 2. O número  não é primo, pois é divisivel por 1,2,4"
   ]
  },
  {
   "cell_type": "markdown",
   "metadata": {},
   "source": [
    "- Pseudo código para buscar números primos:\n",
    "-    > Inicialize uma lista vazia para armazenar os números primos\n",
    "-    > Para cada número N entre 2 e 30:\n",
    "-    > Inicializer uma variável eh_primo como verdadeira\n",
    "-    > Para cada número i entre 2 e n/2\n",
    "-    > Se N é divisível por i, então:\n",
    "-    > Altere a variável eh_primo par falso\n",
    "-    > Pare de verificar outros números\n",
    "-    > Se a variável eh_primo ainda é verdadeira, adicione N a lista de números primos\n",
    "-    > Imprima a lista de números primos"
   ]
  },
  {
   "cell_type": "code",
   "execution_count": null,
   "metadata": {},
   "outputs": [],
   "source": [
    "#Código Jupyter notebook\n",
    "%%time \n",
    "# Comando para ver o tempo de execução de uma célula no Jupyter Notebook\n",
    "\n",
    "# Variaével para armazenar números primos\n",
    "\n",
    "primos = []\n",
    "\n",
    "# Loop para percorrer números de 2 a 30\n",
    "for num in range(2,31):\n",
    "    # Variável de controle\n",
    "    eh_primo = True\n",
    "    \n",
    "    # Loop while para verificar se o número é primo\n",
    "    i=2\n",
    "    while i <= num // 2:\n",
    "        if num % i == 0:\n",
    "            eh_primo = False\n",
    "            break\n",
    "        i += 1\n",
    "    # Adiionando o número primo na lista\n",
    "    if eh_primo:\n",
    "        primos.append(num)\n",
    "#imprimindo a lista de números primos\n",
    "print(primos)"
   ]
  },
  {
   "cell_type": "code",
   "execution_count": null,
   "metadata": {},
   "outputs": [],
   "source": []
  }
 ],
 "metadata": {
  "kernelspec": {
   "display_name": "Python 3 (ipykernel)",
   "language": "python",
   "name": "python3"
  },
  "language_info": {
   "codemirror_mode": {
    "name": "ipython",
    "version": 3
   },
   "file_extension": ".py",
   "mimetype": "text/x-python",
   "name": "python",
   "nbconvert_exporter": "python",
   "pygments_lexer": "ipython3",
   "version": "3.11.7"
  }
 },
 "nbformat": 4,
 "nbformat_minor": 2
}
