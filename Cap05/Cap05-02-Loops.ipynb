{
 "cells": [
  {
   "cell_type": "markdown",
   "metadata": {},
   "source": [
    "# Data Science Academy"
   ]
  },
  {
   "cell_type": "markdown",
   "metadata": {},
   "source": [
    "### Fundamentos a Linguagem Python para Análise de Dados e Data Science"
   ]
  },
  {
   "cell_type": "markdown",
   "metadata": {},
   "source": [
    "##### Capítulo 5 - Loop For"
   ]
  },
  {
   "cell_type": "code",
   "execution_count": null,
   "metadata": {},
   "outputs": [],
   "source": [
    "# Versão da Linguagem Python \n",
    "from platform import python_version\n",
    "print(python_version())"
   ]
  },
  {
   "cell_type": "markdown",
   "metadata": {},
   "source": [
    "##### Loop For"
   ]
  },
  {
   "cell_type": "code",
   "execution_count": null,
   "metadata": {},
   "outputs": [],
   "source": [
    "# Criando uma tupla e imprimindo cada um dos valores \n",
    "tp = (2,3,4)\n",
    "for i in tp:\n",
    "    print(i)"
   ]
  },
  {
   "cell_type": "code",
   "execution_count": null,
   "metadata": {},
   "outputs": [],
   "source": [
    "# Criando uma lista e imprimindo cada um dos valors\n",
    "lststr = ['Data', 'Science','Academy']\n",
    "for i in lststr:\n",
    "    print(i)"
   ]
  },
  {
   "cell_type": "code",
   "execution_count": null,
   "metadata": {},
   "outputs": [],
   "source": [
    "# Imprimindo os valores no intervalo entre 0 e 5 (exclusive)\n",
    "for contador in range(0,5):\n",
    "    print(contador)"
   ]
  },
  {
   "cell_type": "code",
   "execution_count": null,
   "metadata": {},
   "outputs": [],
   "source": [
    "# Imprimindo os números pares da lista de números\n",
    "\n",
    "lst = [1,2,3,4,5,6,7,8,9,10]\n",
    "\n",
    "for num in lst:\n",
    "    if num % 2 == 0:\n",
    "        print(\"%r: é par!\"%num)"
   ]
  },
  {
   "cell_type": "code",
   "execution_count": null,
   "metadata": {},
   "outputs": [],
   "source": [
    "# Listando os números no intervalo entre 0 e 101, com incremento em 2\n",
    "for i in range(0,101,2):\n",
    "    print(i)"
   ]
  },
  {
   "cell_type": "code",
   "execution_count": null,
   "metadata": {},
   "outputs": [],
   "source": [
    "# Strings tamém são sequências\n",
    "for caracter in 'Python é uma linguagem de programação divertida!':\n",
    "    print(caracter)"
   ]
  },
  {
   "cell_type": "markdown",
   "metadata": {},
   "source": [
    "##### Loop FOR Aninhado"
   ]
  },
  {
   "cell_type": "code",
   "execution_count": null,
   "metadata": {},
   "outputs": [],
   "source": [
    "# Loops aninhados\n",
    "for i in range(0,5):\n",
    "    for a in range(0,5):\n",
    "        print ('\\n', a*i)\n",
    "    print('---')"
   ]
  },
  {
   "cell_type": "code",
   "execution_count": null,
   "metadata": {},
   "outputs": [],
   "source": [
    "# Loops aninhados\n",
    "lista1 = [0,1,2,3,4]\n",
    "lista2 = [1,2,3]\n",
    "\n",
    "# Loop externo\n",
    "\n",
    "for elemento_lista1 in lista1:\n",
    "    for elemento_lista2 in lista2:\n",
    "        print ('\\n', elemento_lista1*elemento_lista2)\n",
    "    print('---')"
   ]
  },
  {
   "cell_type": "code",
   "execution_count": null,
   "metadata": {},
   "outputs": [],
   "source": [
    "# O número 47 aparece nas duas listas? \n",
    "\n",
    "lista1 = [10,16,24,39,47]\n",
    "lista2 = [32,89,47,6,12]\n",
    "\n",
    "# Loop externo \n",
    "for elemento_lista1 in lista1:\n",
    "# Loop interno\n",
    "    for elemento_lista2 in lista2:\n",
    "        #Condicional para buscar o número 47\n",
    "        if elemento_lista1 == 47 and elemento_lista2 == elemento_lista1:\n",
    "            print(\"O valor %r, aparece nas duas listas\" %elemento_lista1)"
   ]
  },
  {
   "cell_type": "code",
   "execution_count": null,
   "metadata": {},
   "outputs": [],
   "source": [
    "# Some os números pares da primeira lista com os números pares da segunda lista\n",
    "\n",
    "lista1 = [10,16,24,39,47]\n",
    "lista2 = [32,89,47,76,12]\n",
    "soma = 0\n",
    "# Loop externo\n",
    "for lista in [lista1, lista2]: #para cada lista na minha lista de listas\n",
    "    # Loop interno\n",
    "    for num in lista:\n",
    "        if num % 2 == 0: # Soma se o número for par\n",
    "            soma += num\n",
    "print(\"A soma dos números pares das duas listas é igual a: \", soma)\n"
   ]
  },
  {
   "cell_type": "code",
   "execution_count": null,
   "metadata": {},
   "outputs": [],
   "source": [
    "#Listas podem ser concatenadas em python #\n",
    "lista1 + lista2 "
   ]
  },
  {
   "cell_type": "code",
   "execution_count": null,
   "metadata": {},
   "outputs": [],
   "source": [
    "# Some os números pares da primeira lista com os números pares da segunda lista\n",
    "\n",
    "lista1 = [10,16,24,39,47]\n",
    "lista2 = [32,89,47,76,12]\n",
    "soma = 0\n",
    "\n",
    "for num in lista1 + lista2:\n",
    "    if num % 2 == 0:\n",
    "        soma += num\n",
    "print(\"A soma dos valores pares: \", soma)"
   ]
  },
  {
   "cell_type": "code",
   "execution_count": null,
   "metadata": {},
   "outputs": [],
   "source": [
    "# Loop em lista de listas\n",
    "matriz = [[42,23,34],[100,215,114],[10.1,98.7,12.3]]\n",
    "maior = 0\n",
    "# Loop externo\n",
    "for linha in matriz:\n",
    "    #Loop interno\n",
    "    for num in linha:\n",
    "        #Condicional\n",
    "        if num > maior:\n",
    "            maior = num\n",
    "print(\"Maior número:\", maior)"
   ]
  },
  {
   "cell_type": "code",
   "execution_count": null,
   "metadata": {},
   "outputs": [],
   "source": [
    "# Listando as chaves de um dicionário\n",
    "dict = {'k1':'Pyhton','k2':'R','k3':'Scala'}\n",
    "for item in dict:\n",
    "    print(item)"
   ]
  },
  {
   "cell_type": "code",
   "execution_count": null,
   "metadata": {},
   "outputs": [],
   "source": [
    "# Imprimindo chave e valor do dicionário. Usando o método items() para retornar os itens de um dicionário\n",
    "\n",
    "for k,v in dict.items():\n",
    "    print(k,v)"
   ]
  },
  {
   "cell_type": "markdown",
   "metadata": {},
   "source": [
    "# FIM"
   ]
  }
 ],
 "metadata": {
  "kernelspec": {
   "display_name": "Python 3 (ipykernel)",
   "language": "python",
   "name": "python3"
  },
  "language_info": {
   "codemirror_mode": {
    "name": "ipython",
    "version": 3
   },
   "file_extension": ".py",
   "mimetype": "text/x-python",
   "name": "python",
   "nbconvert_exporter": "python",
   "pygments_lexer": "ipython3",
   "version": "3.11.7"
  }
 },
 "nbformat": 4,
 "nbformat_minor": 2
}
