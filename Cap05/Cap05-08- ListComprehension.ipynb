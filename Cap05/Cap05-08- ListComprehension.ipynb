{
 "cells": [
  {
   "cell_type": "markdown",
   "metadata": {},
   "source": [
    "# Data Science Academy "
   ]
  },
  {
   "cell_type": "markdown",
   "metadata": {},
   "source": [
    "### Fundamentos de Linguagem Python para Análise de Dados e Data Science"
   ]
  },
  {
   "cell_type": "markdown",
   "metadata": {},
   "source": [
    "##### Capítulo 05 - List Comprehension"
   ]
  },
  {
   "cell_type": "code",
   "execution_count": null,
   "metadata": {},
   "outputs": [],
   "source": [
    "# Versão da Linguagem Python\n",
    "from platform import python_version\n",
    "print(python_version())"
   ]
  },
  {
   "cell_type": "markdown",
   "metadata": {},
   "source": [
    "##### List Comprehension \n",
    "\n",
    "- expressão for item in iterable if condição == True\n",
    "- Permite criar e manipular listas de forma concisa e elegante. Com list comprehensions, voocê pode otimizar a criação e o manuseio de listas, além de reduzir a quantidade de código necessário. \n",
    "- Sua sintaxe básica é: [expr for item in lista] = Aplicar a expressão e expr a cada elemento da lista "
   ]
  },
  {
   "cell_type": "code",
   "execution_count": null,
   "metadata": {},
   "outputs": [],
   "source": [
    "# List comprehension que imprime os números até 10\n",
    "[x for x in range (10)]"
   ]
  },
  {
   "cell_type": "code",
   "execution_count": null,
   "metadata": {},
   "outputs": [],
   "source": [
    "# List comprehension que imprime números até 10 e grava em uma lista Python \n",
    "lista_numeros = [x for x in range(10)]"
   ]
  },
  {
   "cell_type": "code",
   "execution_count": null,
   "metadata": {},
   "outputs": [],
   "source": [
    "print(lista_numeros)"
   ]
  },
  {
   "cell_type": "code",
   "execution_count": null,
   "metadata": {},
   "outputs": [],
   "source": [
    "# List comprehension que imprime os números menores que 5 em um intervalo de 1 a 10\n",
    "lista_numeros = [x for x in range(10) if x < 5]\n",
    "print(lista_numeros)"
   ]
  },
  {
   "cell_type": "code",
   "execution_count": null,
   "metadata": {},
   "outputs": [],
   "source": [
    "# Lista de frutas\n",
    "lista_frutas = [\"Banana\", \"Abacate\", \"Melancia\", \"Cereja\", \"Manga\"]\n",
    "\n",
    "nova_lista = []"
   ]
  },
  {
   "cell_type": "code",
   "execution_count": null,
   "metadata": {},
   "outputs": [],
   "source": [
    "for x in lista_frutas:\n",
    "    if \"M\" in x:\n",
    "        nova_lista.append(x)\n",
    "print(nova_lista)"
   ]
  },
  {
   "cell_type": "code",
   "execution_count": null,
   "metadata": {},
   "outputs": [],
   "source": [
    "# Mesmo resultado anterior, mas com list comprehension\n",
    "\n",
    "nova_lista = [x for x in lista_frutas if \"B\" in x]"
   ]
  },
  {
   "cell_type": "code",
   "execution_count": null,
   "metadata": {},
   "outputs": [],
   "source": [
    "print(nova_lista)"
   ]
  },
  {
   "cell_type": "code",
   "execution_count": null,
   "metadata": {},
   "outputs": [],
   "source": [
    "# Dicionário de lunos e notas\n",
    "dict_alunos = {'Bob':68, 'Michael':84, 'Zico':57, 'Ana':93}\n",
    "\n",
    "#Criamos um novo dicionário imprimindo os pares de chave:valor\n",
    "dict_alunos_status = {k:v for (k,v) in dict_alunos.items()}\n",
    "print(dict_alunos_status)"
   ]
  },
  {
   "cell_type": "code",
   "execution_count": null,
   "metadata": {},
   "outputs": [],
   "source": [
    "# Dict Comprehension\n",
    "#Dicionário de alunos e notas \n",
    "dict_alunos = {'Bob':68, 'Michael':84, 'Zico':57, 'Ana':93}\n",
    "\n",
    "#Criamos um novo dicionário com o statu: nota maior que 70, aprovado, senão reprovado\n",
    "dict_alunos_status = {k: ('Aprovado' if v > 70 else 'Rprovado') for (k, v) in dict_alunos.items()}\n",
    "print(dict_alunos_status)"
   ]
  },
  {
   "cell_type": "code",
   "execution_count": null,
   "metadata": {},
   "outputs": [],
   "source": []
  }
 ],
 "metadata": {
  "kernelspec": {
   "display_name": "Python 3 (ipykernel)",
   "language": "python",
   "name": "python3"
  }
 },
 "nbformat": 4,
 "nbformat_minor": 2
}
